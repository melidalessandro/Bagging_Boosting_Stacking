{
 "cells": [
  {
   "cell_type": "code",
   "execution_count": null,
   "metadata": {},
   "outputs": [],
   "source": [
    "from sklearn.ensemble import RandomForestClassifier\n",
    "from sklearn.metrics import f1_score\n",
    "from sklearn.metrics import confusion_matrix\n",
    "from sklearn import preprocessing\n",
    "from sklearn.model_selection import train_test_split\n",
    "from sklearn.metrics import accuracy_score\n",
    "from sklearn.metrics import precision_score\n",
    "from sklearn.metrics import recall_score\n",
    "from sklearn import model_selection\n",
    "from sklearn.model_selection import cross_validate\n",
    "from sklearn.model_selection import cross_val_predict\n",
    "from sklearn.metrics import classification_report\n",
    "from sklearn import metrics\n",
    "from xgboost import XGBClassifier\n",
    "from sklearn.ensemble import BaggingClassifier\n",
    "from sklearn.tree import DecisionTreeClassifier\n",
    "import pandas as pd\n",
    "import numpy as np\n",
    "from vecstack import stacking\n",
    "from sklearn.ensemble import AdaBoostClassifier"
   ]
  },
  {
   "cell_type": "markdown",
   "metadata": {},
   "source": [
    "# Preprocesamiento del dataset"
   ]
  },
  {
   "cell_type": "code",
   "execution_count": null,
   "metadata": {},
   "outputs": [],
   "source": [
    "# importa el dataset\n",
    "data = pd.read_csv('Dataset_DesempeñoAcademico.csv')"
   ]
  },
  {
   "cell_type": "code",
   "execution_count": null,
   "metadata": {},
   "outputs": [],
   "source": [
    "# reemplaza los valores categóricos del target por una variable dummy\n",
    "# High pasa a ser 1 y Low y Medium pasan a ser 0\n",
    "cleanup_nums = {\"Class\":{\"H\": 1, \"L\": 0, \"M\": 0}}\n",
    "data.replace(cleanup_nums, inplace=True)"
   ]
  },
  {
   "cell_type": "code",
   "execution_count": null,
   "metadata": {},
   "outputs": [],
   "source": [
    "# lista de columnas numéricas\n",
    "number_columns = ['raisedhands','VisITedResources','AnnouncementsView','Discussion']"
   ]
  },
  {
   "cell_type": "code",
   "execution_count": null,
   "metadata": {},
   "outputs": [],
   "source": [
    "# quita columnas numéricas del dataset y columna target\n",
    "data_nominal = data.drop(columns=number_columns)\n",
    "data_nominal = data_nominal.drop(columns=['Class'])"
   ]
  },
  {
   "cell_type": "code",
   "execution_count": null,
   "metadata": {},
   "outputs": [],
   "source": [
    "# función que genera una lista de listas a partir de un df\n",
    "# cada lista es una fila del dataframe\n",
    "def generate_matriz2transform(df2transform):\n",
    "    a = []\n",
    "    for i in range(len(df2transform)):\n",
    "        a.append(list(df2transform.loc[i,:]))\n",
    "    return a"
   ]
  },
  {
   "cell_type": "code",
   "execution_count": null,
   "metadata": {},
   "outputs": [],
   "source": [
    "# instancia la funcion generate_matriz2transform con el df con categorías nominales\n",
    "matriz = generate_matriz2transform(data_nominal)"
   ]
  },
  {
   "cell_type": "code",
   "execution_count": null,
   "metadata": {},
   "outputs": [],
   "source": [
    "# función que extrae la lista de valores de los atributos nominales de un df y los guarda en un diccionario\n",
    "# toma como parámetro el df del cual se extraerán dichos atributos\n",
    "# output: {'genre': ['F','M'], 'Relation':['Father','Mother'],...}\n",
    "def get_attributes(nominalDF):\n",
    "    dict_attributes = dict()\n",
    "    for c in nominalDF.columns:\n",
    "        dict_attributes[c]=list(pd.unique(nominalDF[c]))\n",
    "    return dict_attributes"
   ]
  },
  {
   "cell_type": "code",
   "execution_count": null,
   "metadata": {},
   "outputs": [],
   "source": [
    "# instancia la funcion get_attributes con el df con categorías nominales\n",
    "# tomando en cuenta todas sus filas y todas las columnas\n",
    "dict_attributes = get_attributes(data_nominal)"
   ]
  },
  {
   "cell_type": "code",
   "execution_count": null,
   "metadata": {},
   "outputs": [],
   "source": [
    "# función que transforma una matriz con atributos nominales en una matriz con atributos numéricos\n",
    "# toma como parámetros la matriz a transformar y un diccionario con los atributos y sus posibles valores\n",
    "def transform_matriz(matriz2transform, attributes2transform):\n",
    "    transformed_rows = list()\n",
    "    label_encoders = list()\n",
    "    # para cada atributo en el diccionario de atributos\n",
    "    for attribute in attributes2transform.keys():\n",
    "        # genera un objeto LabelEncoder\n",
    "        le = preprocessing.LabelEncoder()\n",
    "        # lo entrena con los valores de ese atributo\n",
    "        le.fit(attributes2transform[attribute])\n",
    "        # y lo agrega a la lista de encoders\n",
    "        label_encoders.append(le)\n",
    "    # para cada fila de la matriz a transformar\n",
    "    for i in range(len(matriz2transform)):\n",
    "        converted = list()\n",
    "        # para cada l en el rango de 0 a la cantidad de encoders\n",
    "        for l in range(len(label_encoders)):\n",
    "            # convierte con el encoder l la palabra en la posición l\n",
    "            conv = label_encoders[l].transform(matriz2transform[i][l:l+1])[0]\n",
    "            # agrega la conversión a la lista de convertido\n",
    "            converted.append(conv)\n",
    "        # agrega la fila con los valores convertidos a la lista\n",
    "        transformed_rows.append(converted)\n",
    "    # devuelve la lista de todas las filas convertidas\n",
    "    return transformed_rows"
   ]
  },
  {
   "cell_type": "code",
   "execution_count": null,
   "metadata": {},
   "outputs": [],
   "source": [
    "# instancia la función transform_matriz con la matriz para transformar\n",
    "c = transform_matriz(matriz, dict_attributes)"
   ]
  },
  {
   "cell_type": "code",
   "execution_count": null,
   "metadata": {},
   "outputs": [],
   "source": [
    "# pasa la matriz a un df y le asigna nombre a sus columnas\n",
    "df = pd.DataFrame(c, columns=data_nominal.columns)"
   ]
  },
  {
   "cell_type": "code",
   "execution_count": null,
   "metadata": {},
   "outputs": [],
   "source": [
    "# función que agrega agrega columnas numéricas de un df a otro\n",
    "# toma como parámetros el df al cual se le agregan columnas, el df del cual se copian las columnas y una lista\n",
    "# con los nombres de las columnas a copiar\n",
    "def aggregate_num_columns(df2agg, df_WithNumColumns, num_columns):\n",
    "    for c in num_columns:\n",
    "        df2agg[c] = df_WithNumColumns[c]\n",
    "    return df2agg"
   ]
  },
  {
   "cell_type": "code",
   "execution_count": null,
   "metadata": {},
   "outputs": [],
   "source": [
    "# instancia la funcion aggregate_num_columns con:\n",
    "# 1) el df (data frame con atributos nominales convertidos a números),\n",
    "# 2) el data (data frame desde donde extraer el columnas numéricas),\n",
    "# 3) la lista number_columns que contiene los nombres de las columnas numéricas\n",
    "df = aggregate_num_columns(df, data, number_columns)"
   ]
  },
  {
   "cell_type": "code",
   "execution_count": null,
   "metadata": {},
   "outputs": [],
   "source": [
    "# vector con el target del dataset\n",
    "y = data['Class']"
   ]
  },
  {
   "cell_type": "markdown",
   "metadata": {},
   "source": [
    "# Separación del dataset en desarrollo y held-out"
   ]
  },
  {
   "cell_type": "code",
   "execution_count": null,
   "metadata": {},
   "outputs": [],
   "source": [
    "# DESARROLLO: train_X, train_y   --->   queda dividirlo en training y validation\n",
    "# HELD-OUT: test_X, test_y\n",
    "trainX, testX, trainy, testy = train_test_split(df, y,\n",
    "                                                train_size=0.80,\n",
    "                                                test_size=0.20,\n",
    "                                                shuffle=True,\n",
    "                                                random_state=123,)"
   ]
  },
  {
   "cell_type": "markdown",
   "metadata": {},
   "source": [
    "# Elección de k-fold para cross-validation"
   ]
  },
  {
   "cell_type": "code",
   "execution_count": null,
   "metadata": {},
   "outputs": [],
   "source": [
    "kfold = model_selection.KFold(n_splits=5, shuffle=True, random_state=123)"
   ]
  },
  {
   "cell_type": "markdown",
   "metadata": {},
   "source": [
    "### Se define una función que será utilizada en todos los modelos para obtener los valores de TF, FP, TN y FN desde la matriz de confusion"
   ]
  },
  {
   "cell_type": "code",
   "execution_count": null,
   "metadata": {},
   "outputs": [],
   "source": [
    "def metricas(y_true, y_pred):\n",
    "    accuracy = accuracy_score(y_true, y_pred)\n",
    "    precision = precision_score(y_true, y_pred)\n",
    "    recall = recall_score(y_true, y_pred)\n",
    "    f1 = f1_score(y_true, y_pred)\n",
    "    cm = confusion_matrix(y_true, y_pred)\n",
    "    print('{0:15} {1}'.format('Accuracy:',round(accuracy,3)))\n",
    "    print('*********************')\n",
    "    print('{0:15} {1}'.format('Precision:',round(precision,3)))\n",
    "    print('{0:15} {1}'.format('Recall:',round(recall,3))) \n",
    "    print('{0:15} {1}'.format('F1 score:',round(f1,3)))\n",
    "    print('*********************')\n",
    "    print('{0:15} {1}'.format('True positive:',cm[0][0]))\n",
    "    print('{0:15} {1}'.format('False positive:',cm[0][1]))\n",
    "    print('{0:15} {1}'.format('False negative:',cm[1][0]))\n",
    "    print('{0:15} {1}'.format('True negative:',cm[1][1]))"
   ]
  },
  {
   "cell_type": "markdown",
   "metadata": {},
   "source": [
    "# Entrenamientos"
   ]
  },
  {
   "cell_type": "markdown",
   "metadata": {},
   "source": [
    "## 1. Bagging con Decision Trees"
   ]
  },
  {
   "cell_type": "code",
   "execution_count": null,
   "metadata": {},
   "outputs": [],
   "source": [
    "cart = DecisionTreeClassifier(max_depth=10)\n",
    "modelo_dt = BaggingClassifier(base_estimator=cart, n_estimators=40, random_state=0)\n",
    "modelo_dt.fit(trainX,trainy)\n",
    "result_dt = model_selection.cross_val_score(modelo_dt, trainX, trainy, cv=kfold)\n",
    "print('Accuracy Bagging con Decision Trees con 5-fold cross validation en train: %f' % result_dt.mean())"
   ]
  },
  {
   "cell_type": "code",
   "execution_count": null,
   "metadata": {},
   "outputs": [],
   "source": [
    "#modelo_dt.get_params()"
   ]
  },
  {
   "cell_type": "code",
   "execution_count": null,
   "metadata": {},
   "outputs": [],
   "source": [
    "yhat_dt = modelo_dt.predict(testX)\n",
    "metricas(testy,yhat_dt)"
   ]
  },
  {
   "cell_type": "markdown",
   "metadata": {},
   "source": [
    "## 2. Boosting con XGBoost"
   ]
  },
  {
   "cell_type": "code",
   "execution_count": null,
   "metadata": {
    "scrolled": true
   },
   "outputs": [],
   "source": [
    "modelo_xg = XGBClassifier(max_depth=11,\n",
    "                           min_child_weight=1,\n",
    "                           learning_rate=0.019,\n",
    "                           n_estimators=550,\n",
    "                           silent=True,\n",
    "                           objective='binary:logistic',\n",
    "                           gamma=0,\n",
    "                           max_delta_step=0,\n",
    "                           subsample=1,\n",
    "                           colsample_bytree=1,\n",
    "                           colsample_bylevel=1,\n",
    "                           reg_alpha=0,\n",
    "                           reg_lambda=0,\n",
    "                           scale_pos_weight=30,\n",
    "                           seed=10,\n",
    "                           missing=None)\n",
    "modelo_xg.fit(trainX,trainy)\n",
    "result_xg = model_selection.cross_val_score(modelo_xg, trainX, trainy, cv=kfold)\n",
    "print('Accuracy XGBoost con 5-fold cross validation en train: %f' % result_xg.mean())"
   ]
  },
  {
   "cell_type": "code",
   "execution_count": null,
   "metadata": {},
   "outputs": [],
   "source": [
    "#modelo_xg.get_params()"
   ]
  },
  {
   "cell_type": "code",
   "execution_count": null,
   "metadata": {},
   "outputs": [],
   "source": [
    "yhat_xg = modelo_xg.predict(testX)\n",
    "metricas(testy,yhat_xg)"
   ]
  },
  {
   "cell_type": "markdown",
   "metadata": {},
   "source": [
    "## 3. Stacking con Decision Tree y XGBoost"
   ]
  },
  {
   "cell_type": "markdown",
   "metadata": {},
   "source": [
    "Stacking con Decision Tree y XGBoost utilizando los mismos parámetros que en los entrenamientos 1 y 2."
   ]
  },
  {
   "cell_type": "code",
   "execution_count": null,
   "metadata": {},
   "outputs": [],
   "source": [
    "models = [\n",
    "    RandomForestClassifier(n_estimators=200,\n",
    "                            max_depth=10, \n",
    "                            n_jobs=1,\n",
    "                            random_state=0),\n",
    "    XGBClassifier(random_state=0,\n",
    "                         n_jobs=1, \n",
    "                         learning_rate=0.019, \n",
    "                         n_estimators=300, \n",
    "                         seed = 5,\n",
    "                         max_depth=20)\n",
    "]"
   ]
  },
  {
   "cell_type": "code",
   "execution_count": null,
   "metadata": {},
   "outputs": [],
   "source": [
    "S_train, S_test = stacking(models, trainX, trainy, testX,\n",
    "                           regression=False,      \n",
    "                           mode='oof_pred_bag',            \n",
    "                           metric=accuracy_score,     \n",
    "                           n_folds=5,           \n",
    "                           shuffle=True,              \n",
    "                           random_state=0,\n",
    "                           verbose=2)"
   ]
  },
  {
   "cell_type": "code",
   "execution_count": null,
   "metadata": {},
   "outputs": [],
   "source": [
    "ada_base = DecisionTreeClassifier(max_depth=10)"
   ]
  },
  {
   "cell_type": "code",
   "execution_count": null,
   "metadata": {},
   "outputs": [],
   "source": [
    "stacking_model = AdaBoostClassifier(base_estimator=ada_base,\n",
    "                                    n_estimators=500,\n",
    "                                    random_state=0)\n",
    "stacking_model.fit(S_train, trainy)"
   ]
  },
  {
   "cell_type": "code",
   "execution_count": null,
   "metadata": {},
   "outputs": [],
   "source": [
    "result_stack = model_selection.cross_val_score(stacking_model, S_train, trainy, cv=kfold)\n",
    "print('Accuracy Stacking con 5-fold cross validation en train: %f' % result_stack.mean())"
   ]
  },
  {
   "cell_type": "code",
   "execution_count": null,
   "metadata": {},
   "outputs": [],
   "source": [
    "stacking_model.get_params()"
   ]
  },
  {
   "cell_type": "code",
   "execution_count": null,
   "metadata": {},
   "outputs": [],
   "source": [
    "yhat_stack = stacking_model.predict(S_test)\n",
    "metricas(testy,yhat_stack)"
   ]
  },
  {
   "cell_type": "code",
   "execution_count": null,
   "metadata": {},
   "outputs": [],
   "source": []
  },
  {
   "cell_type": "markdown",
   "metadata": {},
   "source": [
    "## Gráficos"
   ]
  },
  {
   "cell_type": "code",
   "execution_count": null,
   "metadata": {},
   "outputs": [],
   "source": [
    "import matplotlib.pyplot as plt\n",
    " \n",
    "barWidth = 0.9\n",
    "bars1 = [0.849, 0.807, 0.859] #métricas de cross-validation con fold=5: orden: Bagging, Boosting, Stacking\n",
    "bars2 = [0.896, 0.927, 0.885] #métricas de held-out: orden: Bagging, Boosting, Stacking\n",
    "bars4 = bars1 + bars2\n",
    " \n",
    "r1 = [1,3,5]\n",
    "r2 = [2,4,6]\n",
    "r4 = r1 + r2\n",
    " \n",
    "plt.figure(figsize=(10,7))\n",
    "plt.bar(r1, bars1, width = barWidth, color = (0.3,0.1,0.4,0.6), label='5-fold Accuracy')\n",
    "plt.bar(r2, bars2, width = barWidth, color = (0.3,0.5,0.4,0.6), label='Held-out Accuracy')\n",
    " \n",
    "plt.legend(loc=4)\n",
    " \n",
    "plt.xticks([r + barWidth for r in range(len(r4))], \n",
    "           ['Bagging','Bagging','Boosting','Boosting','Stacking','Stacking'], rotation=90)\n",
    " \n",
    "label = ['n = 0.849', 'n = 0.896', 'n = 0.807', 'n = 0.927', 'n = 0.851', 'n = 0.875']\n",
    " \n",
    "for i in range(len(r4)):\n",
    "    plt.text(x = r4[i]-0.3 , y = bars4[i] + 0.02, s = label[i], size = 10)\n",
    "\n",
    "plt.subplots_adjust(bottom= 0.2, top = 1)\n",
    " \n",
    "plt.show()"
   ]
  },
  {
   "cell_type": "code",
   "execution_count": null,
   "metadata": {},
   "outputs": [],
   "source": []
  }
 ],
 "metadata": {
  "kernelspec": {
   "display_name": "Python 3",
   "language": "python",
   "name": "python3"
  },
  "language_info": {
   "codemirror_mode": {
    "name": "ipython",
    "version": 3
   },
   "file_extension": ".py",
   "mimetype": "text/x-python",
   "name": "python",
   "nbconvert_exporter": "python",
   "pygments_lexer": "ipython3",
   "version": "3.6.5"
  }
 },
 "nbformat": 4,
 "nbformat_minor": 2
}
